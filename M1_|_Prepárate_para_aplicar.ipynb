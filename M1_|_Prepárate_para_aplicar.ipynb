{
  "nbformat": 4,
  "nbformat_minor": 0,
  "metadata": {
    "colab": {
      "provenance": [],
      "authorship_tag": "ABX9TyO/SmxywVaRiViQJbymFP4E",
      "include_colab_link": true
    },
    "kernelspec": {
      "name": "python3",
      "display_name": "Python 3"
    },
    "language_info": {
      "name": "python"
    }
  },
  "cells": [
    {
      "cell_type": "markdown",
      "metadata": {
        "id": "view-in-github",
        "colab_type": "text"
      },
      "source": [
        "<a href=\"https://colab.research.google.com/github/escalier22/DiplomadoTEC/blob/main/M1_%7C_Prep%C3%A1rate_para_aplicar.ipynb\" target=\"_parent\"><img src=\"https://colab.research.google.com/assets/colab-badge.svg\" alt=\"Open In Colab\"/></a>"
      ]
    },
    {
      "cell_type": "markdown",
      "source": [
        "**Segunda sesión**"
      ],
      "metadata": {
        "id": "war4UUMR9HMO"
      }
    },
    {
      "cell_type": "code",
      "execution_count": null,
      "metadata": {
        "colab": {
          "base_uri": "https://localhost:8080/"
        },
        "id": "stYTZzY2xHgJ",
        "outputId": "a3400b0f-c87e-436d-99f6-3e1bd9d9a9e1"
      },
      "outputs": [
        {
          "output_type": "stream",
          "name": "stdout",
          "text": [
            "\n",
            "Separado por comas\n",
            "['Alderaan', '24', '364', '12500', 'temperate', '1 standard', '\"grasslands', ' mountains\"', '40', '2000000000']\n",
            "['Yavin IV', '24', '4818', '10200', '\"temperate', ' tropical\"', '1 standard', '\"jungle', ' rainforests\"', '8', '1000']\n",
            "['Hoth', '23', '549', '7200', 'frozen', '1.1 standard', '\"tundra', ' ice caves', ' mountain ranges\"', '100', 'NA']\n",
            "['Dagobah', '23', '341', '8900', 'murky', 'N/A', '\"swamp', ' jungles\"', '8', 'NA']\n",
            "\n",
            "Entero segunda posición\n",
            "24\n",
            "24\n",
            "23\n",
            "23\n",
            "\n",
            "Entero tercera posición\n",
            "364\n",
            "4818\n",
            "549\n",
            "341\n",
            "\n",
            "Info Planetas\n",
            "planeta 1: Alderaan 24 364\n",
            "planeta 2: Yavin IV 24 4818\n",
            "planeta 3: Hoth 23 549\n",
            "planeta 4: Dagobah 23 341\n"
          ]
        }
      ],
      "source": [
        "alderaan = 'Alderaan,24,364,12500,temperate,1 standard,\"grasslands, mountains\",40,2000000000'\n",
        "yavin = 'Yavin IV,24,4818,10200,\"temperate, tropical\",1 standard,\"jungle, rainforests\",8,1000'\n",
        "hoth = 'Hoth,23,549,7200,frozen,1.1 standard,\"tundra, ice caves, mountain ranges\",100,NA'\n",
        "dagobah = 'Dagobah,23,341,8900,murky,N/A,\"swamp, jungles\",8,NA'\n",
        "\n",
        "#Separado por comas\n",
        "print('\\nSeparado por comas')\n",
        "print (alderaan.split(','))\n",
        "print (yavin.split(','))\n",
        "print (hoth.split(','))\n",
        "print (dagobah.split(','))\n",
        "\n",
        "#Entero segunda posición\n",
        "print('\\nEntero segunda posición')\n",
        "rotacion1 = int(alderaan.split(',')[1])\n",
        "print(rotacion1)\n",
        "rotacion2 = int(yavin.split(',')[1])\n",
        "print(rotacion2)\n",
        "rotacion3 = int(hoth.split(',')[1])\n",
        "print(rotacion3)\n",
        "rotacion4 = int(dagobah.split(',')[1])\n",
        "print(rotacion4)\n",
        "\n",
        "#Entero tercera posición\n",
        "print('\\nEntero tercera posición')\n",
        "orbital1 = int(alderaan.split(',')[2])\n",
        "print(orbital1)\n",
        "orbital2 = int(yavin.split(',')[2])\n",
        "print(orbital2)\n",
        "orbital3 = int(hoth.split(',')[2])\n",
        "print(orbital3)\n",
        "orbital4 = int(dagobah.split(',')[2])\n",
        "print(orbital4)\n",
        "\n",
        "print('\\nInfo Planetas')\n",
        "print('planeta 1:', alderaan.split(',')[0],alderaan.split(',')[1],alderaan.split(',')[2])\n",
        "print('planeta 2:', yavin.split(',')[0],yavin.split(',')[1],yavin.split(',')[2])\n",
        "print('planeta 3:', hoth.split(',')[0],hoth.split(',')[1],hoth.split(',')[2])\n",
        "print('planeta 4:', dagobah.split(',')[0],dagobah.split(',')[1],dagobah.split(',')[2])"
      ]
    },
    {
      "cell_type": "code",
      "source": [
        "file_handler = open ('/content/planets.csv')\n",
        "\n",
        "data = []\n",
        "for line in file_handler:\n",
        "    #print(line)\n",
        "    try:\n",
        "        campos = line.split(',')\n",
        "\n",
        "        if campos[0] != \"NA\" and campos[1] != \"NA\" and campos[2] != \"NA\":\n",
        "            listaTmp = list ()\n",
        "            listaTmp.append(campos[0])\n",
        "            listaTmp.append(int (campos[1]))\n",
        "            listaTmp.append(int (campos[2]))\n",
        "            data.append(listaTmp)\n",
        "    except:\n",
        "        continue\n",
        "\n",
        "file_handler.close()\n",
        "print(data)\n",
        "minrotacion = min(sublist[1] for sublist in data)\n",
        "maxorbital = max(sublist[2] for sublist in data)\n",
        "\n",
        "#Busca el planeta con mínima rotación y máxima orbitación\n",
        "for sublist in data:\n",
        "    if sublist[1] == minrotacion:\n",
        "        planetaminrotacion = sublist[0]\n",
        "        print('El planeta con menor período rotacional es', planetaminrotacion, 'con', minrotacion)\n",
        "\n",
        "for sublist in data:\n",
        "    if sublist[2] == maxorbital:\n",
        "        planetamaxorbital = sublist[0]\n",
        "        print('El planeta con mayor período orbital es', planetamaxorbital, 'con', maxorbital)"
      ],
      "metadata": {
        "colab": {
          "base_uri": "https://localhost:8080/"
        },
        "id": "HGxnUL2L8Nok",
        "outputId": "c8d31414-2878-4ab4-afe6-12146a8d8baa"
      },
      "execution_count": null,
      "outputs": [
        {
          "output_type": "stream",
          "name": "stdout",
          "text": [
            "[['Alderaan', 24, 364], ['Yavin IV', 24, 4818], ['Hoth', 23, 549], ['Dagobah', 23, 341], ['Bespin', 12, 5110], ['Endor', 18, 402], ['Naboo', 26, 312], ['Coruscant', 24, 368], ['Kamino', 27, 463], ['Geonosis', 30, 256], ['Utapau', 27, 351], ['Mustafar', 36, 412], ['Kashyyyk', 26, 381], ['Polis Massa', 24, 590], ['Mygeeto', 12, 167], ['Felucia', 34, 231], ['Cato Neimoidia', 25, 278], ['Saleucami', 26, 392], ['Eriadu', 24, 360], ['Corellia', 25, 329], ['Rodia', 29, 305], ['Nal Hutta', 87, 413], ['Dantooine', 25, 378], ['Bestine IV', 26, 680], ['Ord Mantell', 26, 334], ['Trandosha', 25, 371], ['Socorro', 20, 326], ['Mon Cala', 21, 398], ['Chandrila', 20, 368], ['Sullust', 20, 263], ['Toydaria', 21, 184], ['Malastare', 26, 201], ['Dathomir', 24, 491], ['Ryloth', 30, 305], ['Vulpter', 22, 391], ['Tund', 48, 1770], ['Haruun Kal', 25, 383], ['Cerea', 27, 386], ['Glee Anselm', 33, 206], ['Iridonia', 29, 413], ['Iktotch', 22, 481], ['Dorin', 22, 409], ['Champala', 27, 318], ['Skako', 27, 384], ['Muunilinst', 28, 412], ['Kalee', 23, 378], ['Tatooine', 23, 304]]\n",
            "El planeta con menor período rotacional es Bespin con 12\n",
            "El planeta con menor período rotacional es Mygeeto con 12\n",
            "El planeta con mayor período orbital es Bespin con 5110\n"
          ]
        }
      ]
    }
  ]
}