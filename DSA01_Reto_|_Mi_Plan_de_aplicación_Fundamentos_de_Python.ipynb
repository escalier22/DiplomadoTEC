{
  "nbformat": 4,
  "nbformat_minor": 0,
  "metadata": {
    "colab": {
      "provenance": [],
      "authorship_tag": "ABX9TyP9KV2+WMGR4aDBKtGHSxUl",
      "include_colab_link": true
    },
    "kernelspec": {
      "name": "python3",
      "display_name": "Python 3"
    },
    "language_info": {
      "name": "python"
    }
  },
  "cells": [
    {
      "cell_type": "markdown",
      "metadata": {
        "id": "view-in-github",
        "colab_type": "text"
      },
      "source": [
        "<a href=\"https://colab.research.google.com/github/escalier22/DiplomadoTEC/blob/main/DSA01_Reto_%7C_Mi_Plan_de_aplicaci%C3%B3n_Fundamentos_de_Python.ipynb\" target=\"_parent\"><img src=\"https://colab.research.google.com/assets/colab-badge.svg\" alt=\"Open In Colab\"/></a>"
      ]
    },
    {
      "cell_type": "markdown",
      "source": [
        "**DSA01 Reto | Mi Plan de aplicación: Fundamentos de Python**"
      ],
      "metadata": {
        "id": "YBIqbVWYjPRW"
      }
    },
    {
      "cell_type": "code",
      "execution_count": 67,
      "metadata": {
        "colab": {
          "base_uri": "https://localhost:8080/"
        },
        "id": "Umonn7bhXjxH",
        "outputId": "05f1c27b-1c4c-4930-e148-32bf6efb3ac4"
      },
      "outputs": [
        {
          "output_type": "stream",
          "name": "stdout",
          "text": [
            "La edad promedio de los empleados es  39.62\n",
            "Hay más hombres en la muestra\n"
          ]
        }
      ],
      "source": [
        "file_handler = open ('/content/Employees.csv')\n",
        "num_mujeres = 0\n",
        "num_hombres = 0\n",
        "total_empleados = 0\n",
        "total_edad = 0\n",
        "\n",
        "for line in file_handler:\n",
        "    try:\n",
        "    #Divide la línea en campos utilizando la coma como delimitador\n",
        "        campos = line.split(',')\n",
        "        if campos[0] !='NA' and campos[1] !='NA' and campos[2] !='NA':\n",
        "\n",
        "    #Extrae el id_empleado, género y la edad de cada empleado\n",
        "         id_empleado = campos[0]\n",
        "         genero = campos[1]\n",
        "         edad = int(campos[2])\n",
        "   #Imprimir género y edad\n",
        "         #print('Id_empleado: ', id_empleado)\n",
        "         #print('Género: ', genero)\n",
        "         #print('Edad: ', edad)\n",
        "\n",
        "    #Actualiza el contador de edad total\n",
        "         total_edad += edad\n",
        "\n",
        "    #Incrementa el contador de hombres o mujeres según género\n",
        "         if genero.lower() == 'mujer':\n",
        "            num_mujeres +=1\n",
        "         elif genero.lower() == 'hombre':\n",
        "            num_hombres +=1\n",
        "\n",
        "    #Incrementa el contador total de empleados\n",
        "         total_empleados +=1\n",
        "    except:\n",
        "        continue\n",
        "\n",
        "#Calcular la edad promedio de los empleados\n",
        "promedio_edad = total_edad / total_empleados\n",
        "\n",
        "#Determina si hay más mujeres que hombres\n",
        "more_gender = \"mujeres\" if num_mujeres > num_hombres else \"hombres\"\n",
        "\n",
        "print('La edad promedio de los empleados es ', round(promedio_edad, 2))\n",
        "print(f'Hay más {more_gender} en la muestra')\n",
        "\n",
        "file_handler.close()"
      ]
    }
  ]
}