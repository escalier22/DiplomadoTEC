{
  "nbformat": 4,
  "nbformat_minor": 0,
  "metadata": {
    "colab": {
      "provenance": [],
      "authorship_tag": "ABX9TyOSZTadM8xClFKg4L8rY0KK",
      "include_colab_link": true
    },
    "kernelspec": {
      "name": "python3",
      "display_name": "Python 3"
    },
    "language_info": {
      "name": "python"
    }
  },
  "cells": [
    {
      "cell_type": "markdown",
      "metadata": {
        "id": "view-in-github",
        "colab_type": "text"
      },
      "source": [
        "<a href=\"https://colab.research.google.com/github/escalier22/DiplomadoTEC/blob/main/M%C3%B3dulo_1_Fundamentos_de_Python.ipynb\" target=\"_parent\"><img src=\"https://colab.research.google.com/assets/colab-badge.svg\" alt=\"Open In Colab\"/></a>"
      ]
    },
    {
      "cell_type": "markdown",
      "source": [
        "Primera sesión"
      ],
      "metadata": {
        "id": "vt0MGqjBszef"
      }
    },
    {
      "cell_type": "code",
      "source": [
        "print('Hola Mundo')\n",
        "print('Hola','Gerardo')"
      ],
      "metadata": {
        "colab": {
          "base_uri": "https://localhost:8080/"
        },
        "id": "LJRdau4js1g_",
        "outputId": "8ccc7fdf-32a5-473a-d30c-b9ac09456d01"
      },
      "execution_count": null,
      "outputs": [
        {
          "output_type": "stream",
          "name": "stdout",
          "text": [
            "Hola Mundo\n",
            "Hola Gerardo\n"
          ]
        }
      ]
    },
    {
      "cell_type": "code",
      "source": [
        "a = input('Inserte frase:')\n",
        "print('La longitud es:', len(a))  # Longuitud de un string\n",
        "caracter = input('Caracter a contar:')\n",
        "print('El caracter {} aparece {} veces en la cadena.' .format(caracter, a.count(caracter))) # Número de veces que contiene un caracter\n",
        "separar = a.split() # Separa una string por espacios\n",
        "title = a.title()\n",
        "print(a.title())  # Capitaliza como título\n",
        "print(a.upper())  # Cambia de minúsculas a mayúsculasg\n",
        "print(a.replace('s', '$'))  # Reemplaza las ’s’ por ‘$’\n",
        "print(a.replace('S', '$'))"
      ],
      "metadata": {
        "colab": {
          "base_uri": "https://localhost:8080/"
        },
        "id": "cADVGW4QxzMM",
        "outputId": "cc5e9662-6b70-4611-f5e0-a14cb95ae382"
      },
      "execution_count": null,
      "outputs": [
        {
          "output_type": "stream",
          "name": "stdout",
          "text": [
            "Inserte frase:Número de veces que contiene un caracter\n",
            "La longitud es: 40\n",
            "Caracter a contar:a\n",
            "El caracter a aparece 2 veces en la cadena.\n",
            "Número De Veces Que Contiene Un Caracter\n",
            "NÚMERO DE VECES QUE CONTIENE UN CARACTER\n",
            "Número de vece$ que contiene un caracter\n",
            "Número de veces que contiene un caracter\n"
          ]
        }
      ]
    },
    {
      "cell_type": "code",
      "source": [
        "lista = ['amarillo','rosa','blanco','morado','verde']\n",
        "print(f'La longitud de la lista es = {len(lista)}')   # Longitud de una lista\n",
        "diccionario = {'materia':'español', 'calificación':'10', 'maestro':'Cervantes'}\n",
        "print(f'La longitud del diccionario es = {len(diccionario)}')  # Longitud de un diccionario\n",
        "print(f'Las llaves del diccionario son: {list(diccionario.keys())}')  # Lista de palabras\n",
        "print(f'Las llaves del diccionario son: {list(diccionario.values())}')  # Frecuencia de palabras"
      ],
      "metadata": {
        "colab": {
          "base_uri": "https://localhost:8080/"
        },
        "id": "R5eDism9-kwA",
        "outputId": "8f7cf151-9d57-411a-d34d-6157cb97208a"
      },
      "execution_count": null,
      "outputs": [
        {
          "output_type": "stream",
          "name": "stdout",
          "text": [
            "La longitud de la lista es = 5\n",
            "La longitud del diccionario es = 3\n",
            "Las llaves del diccionario son: ['materia', 'calificación', 'maestro']\n",
            "Las llaves del diccionario son: ['español', '10', 'Cervantes']\n"
          ]
        }
      ]
    },
    {
      "cell_type": "code",
      "source": [
        "lado1 = int (input('Dame el lado 1'))\n",
        "lado2 = int (input('Dame el lado 2'))\n",
        "lado3 = int (input('Dame el lado 3'))\n",
        "if lado1 == lado2 and lado2 == lado3:\n",
        "  print('Equilatero')\n",
        "elif lado1 == lado2 or lado1 == lado3 or lado2 == lado3:\n",
        "  print('Isósceles')\n",
        "else:\n",
        "  print('Escaleno')"
      ],
      "metadata": {
        "colab": {
          "base_uri": "https://localhost:8080/"
        },
        "id": "aDU4tG6HCp6h",
        "outputId": "dfe4a1a3-7870-4db7-9556-5c00e621629a"
      },
      "execution_count": null,
      "outputs": [
        {
          "output_type": "stream",
          "name": "stdout",
          "text": [
            "Dame el lado 13\n",
            "Dame el lado 23\n",
            "Dame el lado 33\n",
            "Equilatero\n"
          ]
        }
      ]
    },
    {
      "cell_type": "code",
      "source": [
        "for num in range(31):\n",
        "  if num % 2 != 0:\n",
        "    print(num)"
      ],
      "metadata": {
        "colab": {
          "base_uri": "https://localhost:8080/"
        },
        "id": "CqihCeNBKYiW",
        "outputId": "1d4d4dfd-1463-437c-84e2-686f3bb18456"
      },
      "execution_count": null,
      "outputs": [
        {
          "output_type": "stream",
          "name": "stdout",
          "text": [
            "1\n",
            "3\n",
            "5\n",
            "7\n",
            "9\n",
            "11\n",
            "13\n",
            "15\n",
            "17\n",
            "19\n",
            "21\n",
            "23\n",
            "25\n",
            "27\n",
            "29\n"
          ]
        }
      ]
    },
    {
      "cell_type": "code",
      "source": [
        "num1 = int (input('Escribe el primer número'))\n",
        "num2 = int (input('Escribe el segundo número'))\n",
        "if num1 > num2:\n",
        "    print('El número es mayor')\n",
        "else:\n",
        "    print('El número es menor')"
      ],
      "metadata": {
        "colab": {
          "base_uri": "https://localhost:8080/"
        },
        "id": "BtGErqk1KJ57",
        "outputId": "947dab23-df09-43be-fb80-f8faafe47856"
      },
      "execution_count": null,
      "outputs": [
        {
          "output_type": "stream",
          "name": "stdout",
          "text": [
            "Escribe el primer número350\n",
            "Escribe el segundo número75\n",
            "El número es mayor\n"
          ]
        }
      ]
    },
    {
      "cell_type": "code",
      "source": [
        "venta = float (input('¿De cuanto fue la venta'))\n",
        "gastos = float (input('¿De cuanto fue el gasto?'))\n",
        "if venta > gastos:\n",
        "    print('Ganancia')\n",
        "else:\n",
        "    print('Perdida')"
      ],
      "metadata": {
        "colab": {
          "base_uri": "https://localhost:8080/"
        },
        "id": "F_v39hb1KNQi",
        "outputId": "a7d41d08-dc11-4b37-d013-78dcc4854eef"
      },
      "execution_count": null,
      "outputs": [
        {
          "output_type": "stream",
          "name": "stdout",
          "text": [
            "¿De cuanto fue la venta120000\n",
            "¿De cuanto fue el gasto?20000\n",
            "Ganancia\n"
          ]
        }
      ]
    },
    {
      "cell_type": "code",
      "source": [
        "temp = int (input('¿Cuál es la tempereatura?'))\n",
        "if temp < 10:\n",
        "    print('Frío')\n",
        "elif temp < 20:\n",
        "    print('Templado')\n",
        "elif temp < 30:\n",
        "    print('Un poco caluroso')\n",
        "else:\n",
        "    print('Muy caluroso')"
      ],
      "metadata": {
        "colab": {
          "base_uri": "https://localhost:8080/"
        },
        "id": "iCNia5rxKU8U",
        "outputId": "6be0ea19-d5fb-45ec-9cef-552546a4b232"
      },
      "execution_count": null,
      "outputs": [
        {
          "output_type": "stream",
          "name": "stdout",
          "text": [
            "¿Cuál es la tempereatura?25\n",
            "Un poco caluroso\n"
          ]
        }
      ]
    },
    {
      "cell_type": "code",
      "source": [
        "n = 0\n",
        "\n",
        "if n == 0:\n",
        "    print('The number is 0')\n",
        "\n",
        "print('First line after the if')"
      ],
      "metadata": {
        "colab": {
          "base_uri": "https://localhost:8080/"
        },
        "id": "pjpgROQhLKIz",
        "outputId": "69203a28-2121-413e-8a39-0cfb729d6e4e"
      },
      "execution_count": null,
      "outputs": [
        {
          "output_type": "stream",
          "name": "stdout",
          "text": [
            "The number is 0\n",
            "First line after the if\n"
          ]
        }
      ]
    },
    {
      "cell_type": "code",
      "source": [
        "for n in range(1,11):\n",
        "      print('6 x', n, '=', (6 * n))"
      ],
      "metadata": {
        "colab": {
          "base_uri": "https://localhost:8080/"
        },
        "id": "t1jUAjkHM4Qm",
        "outputId": "d7d7326f-8b1f-436f-9b63-f964794d76a5"
      },
      "execution_count": null,
      "outputs": [
        {
          "output_type": "stream",
          "name": "stdout",
          "text": [
            "6 x 1 = 6\n",
            "6 x 2 = 12\n",
            "6 x 3 = 18\n",
            "6 x 4 = 24\n",
            "6 x 5 = 30\n",
            "6 x 6 = 36\n",
            "6 x 7 = 42\n",
            "6 x 8 = 48\n",
            "6 x 9 = 54\n",
            "6 x 10 = 60\n"
          ]
        }
      ]
    }
  ]
}